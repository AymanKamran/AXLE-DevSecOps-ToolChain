{
  "nbformat": 4,
  "nbformat_minor": 0,
  "metadata": {
    "colab": {
      "name": "Solution Notebook ",
      "provenance": [],
      "collapsed_sections": [],
      "toc_visible": true,
      "include_colab_link": true
    },
    "kernelspec": {
      "display_name": "Python 3",
      "name": "python3"
    },
    "accelerator": "GPU"
  },
  "cells": [
    {
      "cell_type": "markdown",
      "metadata": {
        "id": "view-in-github",
        "colab_type": "text"
      },
      "source": [
        "<a href=\"https://colab.research.google.com/github/AymanKamran/AXLE-DevSecOps-ToolChain/blob/master/Solution_Notebook.ipynb\" target=\"_parent\"><img src=\"https://colab.research.google.com/assets/colab-badge.svg\" alt=\"Open In Colab\"/></a>"
      ]
    },
    {
      "cell_type": "markdown",
      "metadata": {
        "id": "5fCEDCU_qrC0"
      },
      "source": [
        "[link text](https://)<p><img alt=\"Colaboratory logo\" height=\"45px\" src=\"/img/colab_favicon.ico\" align=\"left\" hspace=\"10px\" vspace=\"0px\"></p>\n",
        "\n",
        "<h1>Google Toronto DevFest 2020 Machine Learning Competition</h1>\n",
        "\n",
        "Colaboratory, or \"Colab\" for short, allows you to write and execute Python in your browser, with \n",
        "- Zero configuration required\n",
        "- Free access to GPUs\n",
        "- Easy sharing\n",
        "\n",
        "Whether you're a **student**, a **data scientist** or an **AI researcher**, Colab can make your work easier. Watch [Introduction to Colab](https://www.youtube.com/watch?v=inN8seMm7UI) to learn more, or just get started below!"
      ]
    },
    {
      "cell_type": "markdown",
      "metadata": {
        "id": "GJBs_flRovLc"
      },
      "source": [
        "## **Getting started**\n",
        "\n",
        "Let's start by our imports and env setup."
      ]
    },
    {
      "cell_type": "code",
      "metadata": {
        "id": "gJr_9dXGpJ05"
      },
      "source": [
        "import os\n",
        "import pandas as pd\n",
        "import numpy as np\n",
        "import matplotlib.pyplot as plt"
      ],
      "execution_count": 6,
      "outputs": []
    },
    {
      "cell_type": "code",
      "metadata": {
        "id": "o1d4wt7o9hLf"
      },
      "source": [
        "# loading datasets from github (Excel - must be in raw view)\n",
        "TrainExcelUrl = \"https://github.com/AymanKamran/Google-DevFest2020-Toronto/blob/main/data/Excel_Training_Data.xlsx?raw=true\"\n",
        "train = pd.read_excel(TrainExcelUrl,  )\n",
        "\n",
        "TestExcelUrl = \"https://github.com/AymanKamran/Google-DevFest2020-Toronto/blob/main/data/Testing%20Dataset.xlsx?raw=true\"\n",
        "test = pd.read_excel(TestExcelUrl)\n",
        "\n",
        "ValidationExcelUrl = \"https://github.com/AymanKamran/Google-DevFest2020-Toronto/blob/main/data/Validation%20Dataset.xlsx?raw=true\"\n",
        "validation = pd.read_excel(ValidationExcelUrl, )\n",
        "\n",
        "\n",
        "#loading datasets from github (github url of CSV file - Must view raw)\n",
        "TrainUrl = \"https://raw.githubusercontent.com/AymanKamran/Google-DevFest2020-Toronto/main/data/Excel_Training_Data.csv\"\n",
        "train2 = pd.read_csv(TrainUrl, sep=\"delimiter\", engine='python', )\n",
        "\n",
        "TestUrl = \"https://raw.githubusercontent.com/AymanKamran/Google-DevFest2020-Toronto/main/data/Testing%20Dataset.csv\"\n",
        "test2 = pd.read_csv(TestUrl, sep='delimiter', engine='python')\n",
        "\n",
        "ValidationUrl = \"https://raw.githubusercontent.com/AymanKamran/Google-DevFest2020-Toronto/main/data/Validation%20Dataset.csv\"\n",
        "validation2 = pd.read_csv(ValidationUrl, sep='delimiter', engine='python')\n",
        "# test = pd.read_excel(data_path + os.sep + \"Testing Dataset.xlsx\")\n",
        "# validation = pd.read_excel(data_path + os.sep + \"Validation Dataset.xlsx\")\n",
        "\n",
        "# scripts_path = data_path + os.sep + \"Scripts\""
      ],
      "execution_count": 7,
      "outputs": []
    },
    {
      "cell_type": "markdown",
      "metadata": {
        "id": "2fhs6GZ4qFMx"
      },
      "source": [
        "## **Let's View our Cleaned Data**"
      ]
    },
    {
      "cell_type": "code",
      "metadata": {
        "colab": {
          "base_uri": "https://localhost:8080/",
          "height": 193
        },
        "id": "-gE-Ez1qtyIA",
        "outputId": "a2e7b869-9354-4b5a-d1ca-3ee08168e65c"
      },
      "source": [
        "train.head(3)\n",
        "\n"
      ],
      "execution_count": 8,
      "outputs": [
        {
          "output_type": "execute_result",
          "data": {
            "text/html": [
              "<div>\n",
              "<style scoped>\n",
              "    .dataframe tbody tr th:only-of-type {\n",
              "        vertical-align: middle;\n",
              "    }\n",
              "\n",
              "    .dataframe tbody tr th {\n",
              "        vertical-align: top;\n",
              "    }\n",
              "\n",
              "    .dataframe thead th {\n",
              "        text-align: right;\n",
              "    }\n",
              "</style>\n",
              "<table border=\"1\" class=\"dataframe\">\n",
              "  <thead>\n",
              "    <tr style=\"text-align: right;\">\n",
              "      <th></th>\n",
              "      <th>title</th>\n",
              "      <th>genres</th>\n",
              "      <th>description_full</th>\n",
              "      <th>Actor Names</th>\n",
              "    </tr>\n",
              "  </thead>\n",
              "  <tbody>\n",
              "    <tr>\n",
              "      <th>0</th>\n",
              "      <td>The Haunting of Alcatraz</td>\n",
              "      <td>Horror</td>\n",
              "      <td>Alcatraz. 1937. A young prison guard working t...</td>\n",
              "      <td>NaN</td>\n",
              "    </tr>\n",
              "    <tr>\n",
              "      <th>1</th>\n",
              "      <td>A Bluebird in My Heart</td>\n",
              "      <td>Drama</td>\n",
              "      <td>Attempting to lead a quiet reformed life, an e...</td>\n",
              "      <td>{Lubna Azabal}</td>\n",
              "    </tr>\n",
              "    <tr>\n",
              "      <th>2</th>\n",
              "      <td>1917</td>\n",
              "      <td>Drama,War</td>\n",
              "      <td>April 1917, the Western Front. Two British sol...</td>\n",
              "      <td>{Benedict Cumberbatch, Andrew Scott, Richard M...</td>\n",
              "    </tr>\n",
              "  </tbody>\n",
              "</table>\n",
              "</div>"
            ],
            "text/plain": [
              "                      title  ...                                        Actor Names\n",
              "0  The Haunting of Alcatraz  ...                                                NaN\n",
              "1    A Bluebird in My Heart  ...                                     {Lubna Azabal}\n",
              "2                      1917  ...  {Benedict Cumberbatch, Andrew Scott, Richard M...\n",
              "\n",
              "[3 rows x 4 columns]"
            ]
          },
          "metadata": {
            "tags": []
          },
          "execution_count": 8
        }
      ]
    },
    {
      "cell_type": "code",
      "metadata": {
        "colab": {
          "base_uri": "https://localhost:8080/",
          "height": 193
        },
        "id": "TE8ocXiZHfIv",
        "outputId": "4f1bda5a-2670-4e4d-b21f-00afde9802dc"
      },
      "source": [
        "test.head(3)"
      ],
      "execution_count": 5,
      "outputs": [
        {
          "output_type": "execute_result",
          "data": {
            "text/html": [
              "<div>\n",
              "<style scoped>\n",
              "    .dataframe tbody tr th:only-of-type {\n",
              "        vertical-align: middle;\n",
              "    }\n",
              "\n",
              "    .dataframe tbody tr th {\n",
              "        vertical-align: top;\n",
              "    }\n",
              "\n",
              "    .dataframe thead th {\n",
              "        text-align: right;\n",
              "    }\n",
              "</style>\n",
              "<table border=\"1\" class=\"dataframe\">\n",
              "  <thead>\n",
              "    <tr style=\"text-align: right;\">\n",
              "      <th></th>\n",
              "      <th>title</th>\n",
              "      <th>genres</th>\n",
              "      <th>description_full</th>\n",
              "      <th>Actor Names</th>\n",
              "    </tr>\n",
              "  </thead>\n",
              "  <tbody>\n",
              "    <tr>\n",
              "      <th>0</th>\n",
              "      <td>The Troubleshooter</td>\n",
              "      <td>Comedy,Drama</td>\n",
              "      <td>After a failed one-night stand, a mechanic end...</td>\n",
              "      <td>{}</td>\n",
              "    </tr>\n",
              "    <tr>\n",
              "      <th>1</th>\n",
              "      <td>The Tango Lesson</td>\n",
              "      <td>Drama,Music,Romance</td>\n",
              "      <td>On a trip to Paris Sally meets Pablo, a tango ...</td>\n",
              "      <td>{}</td>\n",
              "    </tr>\n",
              "    <tr>\n",
              "      <th>2</th>\n",
              "      <td>The Thompsons</td>\n",
              "      <td>Drama,Horror,Thriller</td>\n",
              "      <td>On the run with the law on their trail, Americ...</td>\n",
              "      <td>{Elizabeth Henstridge, Mackenzie Firgens, Sean...</td>\n",
              "    </tr>\n",
              "  </tbody>\n",
              "</table>\n",
              "</div>"
            ],
            "text/plain": [
              "                title  ...                                        Actor Names\n",
              "0  The Troubleshooter  ...                                                 {}\n",
              "1    The Tango Lesson  ...                                                 {}\n",
              "2       The Thompsons  ...  {Elizabeth Henstridge, Mackenzie Firgens, Sean...\n",
              "\n",
              "[3 rows x 4 columns]"
            ]
          },
          "metadata": {
            "tags": []
          },
          "execution_count": 5
        }
      ]
    },
    {
      "cell_type": "code",
      "metadata": {
        "colab": {
          "base_uri": "https://localhost:8080/",
          "height": 193
        },
        "id": "GQek3bxxHfhh",
        "outputId": "008b4a66-7aa0-4f2c-fdd9-6a098ac08634"
      },
      "source": [
        "validation.head(3)"
      ],
      "execution_count": 6,
      "outputs": [
        {
          "output_type": "execute_result",
          "data": {
            "text/html": [
              "<div>\n",
              "<style scoped>\n",
              "    .dataframe tbody tr th:only-of-type {\n",
              "        vertical-align: middle;\n",
              "    }\n",
              "\n",
              "    .dataframe tbody tr th {\n",
              "        vertical-align: top;\n",
              "    }\n",
              "\n",
              "    .dataframe thead th {\n",
              "        text-align: right;\n",
              "    }\n",
              "</style>\n",
              "<table border=\"1\" class=\"dataframe\">\n",
              "  <thead>\n",
              "    <tr style=\"text-align: right;\">\n",
              "      <th></th>\n",
              "      <th>title</th>\n",
              "      <th>genres</th>\n",
              "      <th>description_full</th>\n",
              "      <th>Actor Names</th>\n",
              "    </tr>\n",
              "  </thead>\n",
              "  <tbody>\n",
              "    <tr>\n",
              "      <th>0</th>\n",
              "      <td>Dr Jekyll &amp; Sister Hyde</td>\n",
              "      <td>Horror,Sci-Fi</td>\n",
              "      <td>In Victorian London, Dr. Henry Jekyll attempts...</td>\n",
              "      <td>{Martine Beswick}</td>\n",
              "    </tr>\n",
              "    <tr>\n",
              "      <th>1</th>\n",
              "      <td>Carbon Copy</td>\n",
              "      <td>Action,Comedy,Drama</td>\n",
              "      <td>A white corporate executive is surprised to di...</td>\n",
              "      <td>{Denzel Washington, George Segal, Jack Warden,...</td>\n",
              "    </tr>\n",
              "    <tr>\n",
              "      <th>2</th>\n",
              "      <td>Basquiat</td>\n",
              "      <td>Biography,Drama</td>\n",
              "      <td>Basquiat tells the story of the meteoric rise ...</td>\n",
              "      <td>{Gary Oldman, Benicio Del Toro, Parker Posey, ...</td>\n",
              "    </tr>\n",
              "  </tbody>\n",
              "</table>\n",
              "</div>"
            ],
            "text/plain": [
              "                     title  ...                                        Actor Names\n",
              "0  Dr Jekyll & Sister Hyde  ...                                  {Martine Beswick}\n",
              "1              Carbon Copy  ...  {Denzel Washington, George Segal, Jack Warden,...\n",
              "2                 Basquiat  ...  {Gary Oldman, Benicio Del Toro, Parker Posey, ...\n",
              "\n",
              "[3 rows x 4 columns]"
            ]
          },
          "metadata": {
            "tags": []
          },
          "execution_count": 6
        }
      ]
    },
    {
      "cell_type": "markdown",
      "metadata": {
        "id": "lSrWNr3MuFUS"
      },
      "source": [
        "## **Let's Checkout some of the internals**\n",
        "Colab notebooks allow you to combine **executable code** and **rich text** in a single document, along with **images**, **HTML**, **LaTeX** and more. When you create your own Colab notebooks, they are stored in your Google Drive account. You can easily share your Colab notebooks with co-workers or friends, allowing them to comment on your notebooks or even edit them. To learn more, see [Overview of Colab](/notebooks/basic_features_overview.ipynb). To create a new Colab notebook you can use the File menu above, or use the following link: [create a new Colab notebook](http://colab.research.google.com#create=true).\n",
        "\n",
        "Colab notebooks are Jupyter notebooks that are hosted by Colab. To learn more about the Jupyter project, see [jupyter.org](https://www.jupyter.org)."
      ]
    },
    {
      "cell_type": "code",
      "metadata": {
        "colab": {
          "base_uri": "https://localhost:8080/"
        },
        "id": "ACpfBU8VIIoo",
        "outputId": "c86870aa-9201-432f-c4d1-2d67a6f222b6"
      },
      "source": [
        "print(\"Lets Look into the first value to train.\\nMovie Name : \", train['title'].values[0])\n",
        "print(\"Genres: \", train['genres'].values[0])\n",
        "print(\"description_full : \", train['description_full'].values[0])\n",
        "print(\"Actor Names: \", train['Actor Names'].values[0])\n",
        "\n",
        "labels = [\"Action\",\"Adventure\",\"Animation\",\"Biography\",\"Comedy\",\"Crime\",\"Documentary\",\"Drama\",\"Family\",\"Fantasy\",\"History\",\"Horror\",\"Musical\",\"Mystery\",\"Romance\",\"Sci-Fi\",\"Sport\",\"Thriller\",\"War\",\"Western\", \"Music\", \"Film-Noir\", \"Reality-TV\"]\n",
        "print (\"There are \", labels.__len__(), \" genres. They are:\")\n",
        "print (labels)\n",
        "# print(\"-\"*60)\n",
        "# print(\"Length of content : \", len(open(scripts_path + os.sep + train['File_Name'].values[0], \"r\").read()))\n",
        "# print(\"-\"*60)\n"
      ],
      "execution_count": 9,
      "outputs": [
        {
          "output_type": "stream",
          "text": [
            "Lets Look into the first value to train.\n",
            "Movie Name :  The Haunting of Alcatraz\n",
            "Genres:  Horror\n",
            "description_full :  Alcatraz. 1937. A young prison guard working the night shift experiences a string of chilling disturbances culminating in the bizarre death of an inmate - raising suspicions of not only a supernatural presence but also of deadly corruption on the notorious prisons punishment block . Based on horrifying true events, at the most famous prison in the world, The Haunting Of Alcatraz is a terrifying story of supernatural and real-world horrors.\n",
            "Actor Names:  nan\n",
            "There are  23  genres. They are:\n",
            "['Action', 'Adventure', 'Animation', 'Biography', 'Comedy', 'Crime', 'Documentary', 'Drama', 'Family', 'Fantasy', 'History', 'Horror', 'Musical', 'Mystery', 'Romance', 'Sci-Fi', 'Sport', 'Thriller', 'War', 'Western', 'Music', 'Film-Noir', 'Reality-TV']\n"
          ],
          "name": "stdout"
        }
      ]
    },
    {
      "cell_type": "markdown",
      "metadata": {
        "id": "97mE3X1eQojT"
      },
      "source": [
        "![Screen Shot 2020-11-22 at 11.22.23 PM.png](data:image/png;base64,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)"
      ]
    },
    {
      "cell_type": "markdown",
      "metadata": {
        "id": "PYP12BPshaXh"
      },
      "source": [
        "Also, Reality-TV is 22"
      ]
    },
    {
      "cell_type": "code",
      "metadata": {
        "colab": {
          "base_uri": "https://localhost:8080/",
          "height": 589
        },
        "id": "nC6mTcAkP6j9",
        "outputId": "8afdd827-8f04-4f3e-bb1b-cba44c0ad1d3"
      },
      "source": [
        "train"
      ],
      "execution_count": 10,
      "outputs": [
        {
          "output_type": "execute_result",
          "data": {
            "text/html": [
              "<div>\n",
              "<style scoped>\n",
              "    .dataframe tbody tr th:only-of-type {\n",
              "        vertical-align: middle;\n",
              "    }\n",
              "\n",
              "    .dataframe tbody tr th {\n",
              "        vertical-align: top;\n",
              "    }\n",
              "\n",
              "    .dataframe thead th {\n",
              "        text-align: right;\n",
              "    }\n",
              "</style>\n",
              "<table border=\"1\" class=\"dataframe\">\n",
              "  <thead>\n",
              "    <tr style=\"text-align: right;\">\n",
              "      <th></th>\n",
              "      <th>title</th>\n",
              "      <th>genres</th>\n",
              "      <th>description_full</th>\n",
              "      <th>Actor Names</th>\n",
              "    </tr>\n",
              "  </thead>\n",
              "  <tbody>\n",
              "    <tr>\n",
              "      <th>0</th>\n",
              "      <td>The Haunting of Alcatraz</td>\n",
              "      <td>Horror</td>\n",
              "      <td>Alcatraz. 1937. A young prison guard working t...</td>\n",
              "      <td>NaN</td>\n",
              "    </tr>\n",
              "    <tr>\n",
              "      <th>1</th>\n",
              "      <td>A Bluebird in My Heart</td>\n",
              "      <td>Drama</td>\n",
              "      <td>Attempting to lead a quiet reformed life, an e...</td>\n",
              "      <td>{Lubna Azabal}</td>\n",
              "    </tr>\n",
              "    <tr>\n",
              "      <th>2</th>\n",
              "      <td>1917</td>\n",
              "      <td>Drama,War</td>\n",
              "      <td>April 1917, the Western Front. Two British sol...</td>\n",
              "      <td>{Benedict Cumberbatch, Andrew Scott, Richard M...</td>\n",
              "    </tr>\n",
              "    <tr>\n",
              "      <th>3</th>\n",
              "      <td>Un moment d'Ã©garement</td>\n",
              "      <td>Comedy,Drama,Romance</td>\n",
              "      <td>Two friends bring their daughters with them on...</td>\n",
              "      <td>{Vincent Cassel, FranÃ§ois Cluzet}</td>\n",
              "    </tr>\n",
              "    <tr>\n",
              "      <th>4</th>\n",
              "      <td>10 Things I Hate About You</td>\n",
              "      <td>Action,Comedy,Drama,Romance</td>\n",
              "      <td>Adapted from William Shakespeare's play \"The T...</td>\n",
              "      <td>{Joseph Gordon-Levitt, Heath Ledger, Julia Sti...</td>\n",
              "    </tr>\n",
              "    <tr>\n",
              "      <th>...</th>\n",
              "      <td>...</td>\n",
              "      <td>...</td>\n",
              "      <td>...</td>\n",
              "      <td>...</td>\n",
              "    </tr>\n",
              "    <tr>\n",
              "      <th>7517</th>\n",
              "      <td>Lane 1974</td>\n",
              "      <td>Adventure,Biography,Drama</td>\n",
              "      <td>Based on a true story, Lane is a 13-year-old g...</td>\n",
              "      <td>{Katherine Moennig, Jasmin Savoy Brown, Sara C...</td>\n",
              "    </tr>\n",
              "    <tr>\n",
              "      <th>7518</th>\n",
              "      <td>Mind and Machine</td>\n",
              "      <td>Crime,Sci-Fi,Thriller</td>\n",
              "      <td>Set in the near future where humanoid robots a...</td>\n",
              "      <td>{}</td>\n",
              "    </tr>\n",
              "    <tr>\n",
              "      <th>7519</th>\n",
              "      <td>Girl Lost</td>\n",
              "      <td>Action,Drama</td>\n",
              "      <td>Born into the seedy, underground world of pros...</td>\n",
              "      <td>{Robin Bain}</td>\n",
              "    </tr>\n",
              "    <tr>\n",
              "      <th>7520</th>\n",
              "      <td>Caravan to Vaccares</td>\n",
              "      <td>Action,Mystery,Thriller</td>\n",
              "      <td>American Neil Bowman is traveling through Fran...</td>\n",
              "      <td>{Charlotte Rampling, Michael Lonsdale}</td>\n",
              "    </tr>\n",
              "    <tr>\n",
              "      <th>7521</th>\n",
              "      <td>Burn Out</td>\n",
              "      <td>Action,Thriller</td>\n",
              "      <td>Head burned, addicted to thrills, Tony lives f...</td>\n",
              "      <td>{Olivier Rabourdin, FranÃ§ois Civil}</td>\n",
              "    </tr>\n",
              "  </tbody>\n",
              "</table>\n",
              "<p>7522 rows × 4 columns</p>\n",
              "</div>"
            ],
            "text/plain": [
              "                           title  ...                                        Actor Names\n",
              "0       The Haunting of Alcatraz  ...                                                NaN\n",
              "1         A Bluebird in My Heart  ...                                     {Lubna Azabal}\n",
              "2                           1917  ...  {Benedict Cumberbatch, Andrew Scott, Richard M...\n",
              "3         Un moment d'Ã©garement  ...                 {Vincent Cassel, FranÃ§ois Cluzet}\n",
              "4     10 Things I Hate About You  ...  {Joseph Gordon-Levitt, Heath Ledger, Julia Sti...\n",
              "...                          ...  ...                                                ...\n",
              "7517                   Lane 1974  ...  {Katherine Moennig, Jasmin Savoy Brown, Sara C...\n",
              "7518            Mind and Machine  ...                                                 {}\n",
              "7519                   Girl Lost  ...                                       {Robin Bain}\n",
              "7520         Caravan to Vaccares  ...             {Charlotte Rampling, Michael Lonsdale}\n",
              "7521                    Burn Out  ...               {Olivier Rabourdin, FranÃ§ois Civil}\n",
              "\n",
              "[7522 rows x 4 columns]"
            ]
          },
          "metadata": {
            "tags": []
          },
          "execution_count": 10
        }
      ]
    },
    {
      "cell_type": "code",
      "metadata": {
        "colab": {
          "base_uri": "https://localhost:8080/",
          "height": 589
        },
        "id": "2s3zne4KLmoi",
        "outputId": "0b2436fb-06ce-4d6c-9e9c-0000e993265a"
      },
      "source": [
        "test"
      ],
      "execution_count": 10,
      "outputs": [
        {
          "output_type": "execute_result",
          "data": {
            "text/html": [
              "<div>\n",
              "<style scoped>\n",
              "    .dataframe tbody tr th:only-of-type {\n",
              "        vertical-align: middle;\n",
              "    }\n",
              "\n",
              "    .dataframe tbody tr th {\n",
              "        vertical-align: top;\n",
              "    }\n",
              "\n",
              "    .dataframe thead th {\n",
              "        text-align: right;\n",
              "    }\n",
              "</style>\n",
              "<table border=\"1\" class=\"dataframe\">\n",
              "  <thead>\n",
              "    <tr style=\"text-align: right;\">\n",
              "      <th></th>\n",
              "      <th>title</th>\n",
              "      <th>genres</th>\n",
              "      <th>description_full</th>\n",
              "      <th>Actor Names</th>\n",
              "    </tr>\n",
              "  </thead>\n",
              "  <tbody>\n",
              "    <tr>\n",
              "      <th>0</th>\n",
              "      <td>The Troubleshooter</td>\n",
              "      <td>Comedy,Drama</td>\n",
              "      <td>After a failed one-night stand, a mechanic end...</td>\n",
              "      <td>{}</td>\n",
              "    </tr>\n",
              "    <tr>\n",
              "      <th>1</th>\n",
              "      <td>The Tango Lesson</td>\n",
              "      <td>Drama,Music,Romance</td>\n",
              "      <td>On a trip to Paris Sally meets Pablo, a tango ...</td>\n",
              "      <td>{}</td>\n",
              "    </tr>\n",
              "    <tr>\n",
              "      <th>2</th>\n",
              "      <td>The Thompsons</td>\n",
              "      <td>Drama,Horror,Thriller</td>\n",
              "      <td>On the run with the law on their trail, Americ...</td>\n",
              "      <td>{Elizabeth Henstridge, Mackenzie Firgens, Sean...</td>\n",
              "    </tr>\n",
              "    <tr>\n",
              "      <th>3</th>\n",
              "      <td>I Saw What You Did</td>\n",
              "      <td>Action,Comedy,Crime,Horror,Thriller</td>\n",
              "      <td>When two teenagers make prank phone calls to s...</td>\n",
              "      <td>{Joan Crawford, John Ireland, Leif Erickson, J...</td>\n",
              "    </tr>\n",
              "    <tr>\n",
              "      <th>4</th>\n",
              "      <td>Psych-Out</td>\n",
              "      <td>Drama</td>\n",
              "      <td>Jenny, a deaf runaway who has just arrived in ...</td>\n",
              "      <td>{Jack Nicholson, Dean Stockwell, Bruce Dern, G...</td>\n",
              "    </tr>\n",
              "    <tr>\n",
              "      <th>...</th>\n",
              "      <td>...</td>\n",
              "      <td>...</td>\n",
              "      <td>...</td>\n",
              "      <td>...</td>\n",
              "    </tr>\n",
              "    <tr>\n",
              "      <th>2068</th>\n",
              "      <td>Fast Colour</td>\n",
              "      <td>Drama,Sci-Fi,Thriller</td>\n",
              "      <td>After years in hiding, a woman is forced to go...</td>\n",
              "      <td>{Gugu Mbatha-Raw, Lorraine Toussaint, David St...</td>\n",
              "    </tr>\n",
              "    <tr>\n",
              "      <th>2069</th>\n",
              "      <td>WWE Royal Rumble</td>\n",
              "      <td>Action,Sport</td>\n",
              "      <td>For the superstars of the WWE, the year begins...</td>\n",
              "      <td>{Ronda Rousey, Mike , Randy Orton, C.J. Perry}</td>\n",
              "    </tr>\n",
              "    <tr>\n",
              "      <th>2070</th>\n",
              "      <td>Disappearance</td>\n",
              "      <td>Romance,Thriller</td>\n",
              "      <td>When author George BoulangÃ© agrees to the wis...</td>\n",
              "      <td>{Brian Thompson, Cortney Palm, Reggie Lee, Mat...</td>\n",
              "    </tr>\n",
              "    <tr>\n",
              "      <th>2071</th>\n",
              "      <td>Run for the High Country</td>\n",
              "      <td>Western</td>\n",
              "      <td>A seasoned US Marshal is ambushed while tracki...</td>\n",
              "      <td>{}</td>\n",
              "    </tr>\n",
              "    <tr>\n",
              "      <th>2072</th>\n",
              "      <td>The Pink Panther Strikes Again</td>\n",
              "      <td>Comedy,Crime</td>\n",
              "      <td>Charles Dreyfus (Herbert Lom) escapes from the...</td>\n",
              "      <td>{Julie Andrews, Peter Sellers, Deep Roy, Omar ...</td>\n",
              "    </tr>\n",
              "  </tbody>\n",
              "</table>\n",
              "<p>2073 rows × 4 columns</p>\n",
              "</div>"
            ],
            "text/plain": [
              "                               title  ...                                        Actor Names\n",
              "0                 The Troubleshooter  ...                                                 {}\n",
              "1                   The Tango Lesson  ...                                                 {}\n",
              "2                      The Thompsons  ...  {Elizabeth Henstridge, Mackenzie Firgens, Sean...\n",
              "3                 I Saw What You Did  ...  {Joan Crawford, John Ireland, Leif Erickson, J...\n",
              "4                          Psych-Out  ...  {Jack Nicholson, Dean Stockwell, Bruce Dern, G...\n",
              "...                              ...  ...                                                ...\n",
              "2068                     Fast Colour  ...  {Gugu Mbatha-Raw, Lorraine Toussaint, David St...\n",
              "2069                WWE Royal Rumble  ...     {Ronda Rousey, Mike , Randy Orton, C.J. Perry}\n",
              "2070                   Disappearance  ...  {Brian Thompson, Cortney Palm, Reggie Lee, Mat...\n",
              "2071        Run for the High Country  ...                                                 {}\n",
              "2072  The Pink Panther Strikes Again  ...  {Julie Andrews, Peter Sellers, Deep Roy, Omar ...\n",
              "\n",
              "[2073 rows x 4 columns]"
            ]
          },
          "metadata": {
            "tags": []
          },
          "execution_count": 10
        }
      ]
    },
    {
      "cell_type": "code",
      "metadata": {
        "colab": {
          "base_uri": "https://localhost:8080/",
          "height": 589
        },
        "id": "0MLg4L_aLnvQ",
        "outputId": "d628e7c7-6e96-4b8c-f09b-f4c00ecd2e8c"
      },
      "source": [
        "validation"
      ],
      "execution_count": 11,
      "outputs": [
        {
          "output_type": "execute_result",
          "data": {
            "text/html": [
              "<div>\n",
              "<style scoped>\n",
              "    .dataframe tbody tr th:only-of-type {\n",
              "        vertical-align: middle;\n",
              "    }\n",
              "\n",
              "    .dataframe tbody tr th {\n",
              "        vertical-align: top;\n",
              "    }\n",
              "\n",
              "    .dataframe thead th {\n",
              "        text-align: right;\n",
              "    }\n",
              "</style>\n",
              "<table border=\"1\" class=\"dataframe\">\n",
              "  <thead>\n",
              "    <tr style=\"text-align: right;\">\n",
              "      <th></th>\n",
              "      <th>title</th>\n",
              "      <th>genres</th>\n",
              "      <th>description_full</th>\n",
              "      <th>Actor Names</th>\n",
              "    </tr>\n",
              "  </thead>\n",
              "  <tbody>\n",
              "    <tr>\n",
              "      <th>0</th>\n",
              "      <td>Dr Jekyll &amp; Sister Hyde</td>\n",
              "      <td>Horror,Sci-Fi</td>\n",
              "      <td>In Victorian London, Dr. Henry Jekyll attempts...</td>\n",
              "      <td>{Martine Beswick}</td>\n",
              "    </tr>\n",
              "    <tr>\n",
              "      <th>1</th>\n",
              "      <td>Carbon Copy</td>\n",
              "      <td>Action,Comedy,Drama</td>\n",
              "      <td>A white corporate executive is surprised to di...</td>\n",
              "      <td>{Denzel Washington, George Segal, Jack Warden,...</td>\n",
              "    </tr>\n",
              "    <tr>\n",
              "      <th>2</th>\n",
              "      <td>Basquiat</td>\n",
              "      <td>Biography,Drama</td>\n",
              "      <td>Basquiat tells the story of the meteoric rise ...</td>\n",
              "      <td>{Gary Oldman, Benicio Del Toro, Parker Posey, ...</td>\n",
              "    </tr>\n",
              "    <tr>\n",
              "      <th>3</th>\n",
              "      <td>The Projected Man</td>\n",
              "      <td>Action,Horror,Sci-Fi</td>\n",
              "      <td>A scientist experimenting with matter transmis...</td>\n",
              "      <td>{}</td>\n",
              "    </tr>\n",
              "    <tr>\n",
              "      <th>4</th>\n",
              "      <td>Havenhurst</td>\n",
              "      <td>Horror,Mystery,Thriller</td>\n",
              "      <td>A troubled young woman takes up residence in a...</td>\n",
              "      <td>{Julie Benz, Danielle Harris, Fionnula Flanaga...</td>\n",
              "    </tr>\n",
              "    <tr>\n",
              "      <th>...</th>\n",
              "      <td>...</td>\n",
              "      <td>...</td>\n",
              "      <td>...</td>\n",
              "      <td>...</td>\n",
              "    </tr>\n",
              "    <tr>\n",
              "      <th>2599</th>\n",
              "      <td>Ballad in Blue</td>\n",
              "      <td>Drama,Music</td>\n",
              "      <td>Ray Charles attempts to help a down-on-their-l...</td>\n",
              "      <td>{Dawn Addams, Ray Charles, Tom Bell}</td>\n",
              "    </tr>\n",
              "    <tr>\n",
              "      <th>2600</th>\n",
              "      <td>Still</td>\n",
              "      <td>Drama,Fantasy,Mystery</td>\n",
              "      <td>When a young hiker stumbles onto an isolated f...</td>\n",
              "      <td>{Lydia Wilson, Kevin Wayne}</td>\n",
              "    </tr>\n",
              "    <tr>\n",
              "      <th>2601</th>\n",
              "      <td>The Last Boy</td>\n",
              "      <td>Drama,Sci-Fi</td>\n",
              "      <td>With the world's end imminent, a dying mother ...</td>\n",
              "      <td>{Luke Goss, Peter Guinness}</td>\n",
              "    </tr>\n",
              "    <tr>\n",
              "      <th>2602</th>\n",
              "      <td>Red, White and Zero</td>\n",
              "      <td>Drama</td>\n",
              "      <td>An impassive young girl is taken from her suic...</td>\n",
              "      <td>{Anthony Hopkins, Arthur Lowe}</td>\n",
              "    </tr>\n",
              "    <tr>\n",
              "      <th>2603</th>\n",
              "      <td>The Confession</td>\n",
              "      <td>Drama,Thriller</td>\n",
              "      <td>A High powered NY litigator, hired to defend a...</td>\n",
              "      <td>{Ben Kingsley, Alec Baldwin, Chris Noth, Richa...</td>\n",
              "    </tr>\n",
              "  </tbody>\n",
              "</table>\n",
              "<p>2604 rows × 4 columns</p>\n",
              "</div>"
            ],
            "text/plain": [
              "                        title  ...                                        Actor Names\n",
              "0     Dr Jekyll & Sister Hyde  ...                                  {Martine Beswick}\n",
              "1                 Carbon Copy  ...  {Denzel Washington, George Segal, Jack Warden,...\n",
              "2                    Basquiat  ...  {Gary Oldman, Benicio Del Toro, Parker Posey, ...\n",
              "3           The Projected Man  ...                                                 {}\n",
              "4                  Havenhurst  ...  {Julie Benz, Danielle Harris, Fionnula Flanaga...\n",
              "...                       ...  ...                                                ...\n",
              "2599           Ballad in Blue  ...               {Dawn Addams, Ray Charles, Tom Bell}\n",
              "2600                    Still  ...                        {Lydia Wilson, Kevin Wayne}\n",
              "2601             The Last Boy  ...                        {Luke Goss, Peter Guinness}\n",
              "2602      Red, White and Zero  ...                     {Anthony Hopkins, Arthur Lowe}\n",
              "2603           The Confession  ...  {Ben Kingsley, Alec Baldwin, Chris Noth, Richa...\n",
              "\n",
              "[2604 rows x 4 columns]"
            ]
          },
          "metadata": {
            "tags": []
          },
          "execution_count": 11
        }
      ]
    },
    {
      "cell_type": "markdown",
      "metadata": {
        "id": "-qXHdJf-RRY_"
      },
      "source": [
        "## Data Cleaning\n",
        "Most cleaning was done using excel, google sheets, and some coding away from the colab. Some more cleaning: Currenlty our \"genres\" column is in words \"horror, comedy\", but we must convert this to numbers.\n",
        "\n",
        "We'll create two more columns:\n",
        "Test_Column_GenresAsNumber (contains all genres as numbers) - slight bug in this - for some reason it only inlcudes the first character (ie if its supposed to be 18,2,3, it iwll only inluclude 1 (but does not effect our data for now)\n",
        "\n",
        "Labels = Test_Column_SingleGenre (contains only the main single genre as a number - presumed that the first listed genre is the main one)\n"
      ]
    },
    {
      "cell_type": "markdown",
      "metadata": {
        "id": "VbPsBS9ygSch"
      },
      "source": [
        "##*Data Cleaning for Test**"
      ]
    },
    {
      "cell_type": "code",
      "metadata": {
        "colab": {
          "base_uri": "https://localhost:8080/",
          "height": 861
        },
        "id": "v_cyFu_eRdne",
        "outputId": "4ed65233-116e-444a-cb8a-6becc368adaa"
      },
      "source": [
        "#First determine length of \"Test\" csv file (number of rows)\n",
        "testsLength = len(test['title'])\n",
        "print (testsLength)\n",
        "\n",
        "#Now we'll create an empty array of length equal to testsLength. Call this \" \"Genres as Numbers\"\"This contains all genres\n",
        "Test_Column_GenresAsNumber = np.empty(testsLength, dtype=str) \n",
        "print (\"Test_Column_GenresAsNumber is \", Test_Column_GenresAsNumber)\n",
        "\n",
        "#Now we'll create another empty array of length equal to testsLength. call this Main Genre (not sure if its acc the main genre)\n",
        "#rather its just the first genre in the column called Genres as Numbers\n",
        "Test_Column_SingleGenre = np.empty(testsLength, dtype=int) \n",
        "print (\"Test_Column_SingleGenre is \", Test_Column_SingleGenre)\n",
        "\n",
        "\n",
        "#Now lets use code to convert all genres from words into numbers. We'll iterate thru the \"genres column\"\n",
        "EntireCSVFile = test.head(testsLength) #this contains all rows\n",
        "# print(\"HERES EntireCSVFile\", EntireCSVFile)\n",
        "\n",
        "# print (\"ENTERING FOR\")\n",
        "for i in range(testsLength):\n",
        "  #find and replace each genre with its number. sytax: string.replace(old, new, count)\n",
        "  # print(EntireCSVFile['genres'][i]) \n",
        "  current_Genres= EntireCSVFile['genres'][i]\n",
        "  replacedWithNums = current_Genres.replace(\"Action\", \"0\", 2).replace(\"Adventure\", \"1\", 2).replace(\"Animation\", \"2\", 2).replace(\"Biography\", \"3\", 2).replace(\"Comedy\", \"4\", 2).replace(\"Crime\", \"5\", 2).replace(\"Documentary\", \"6\", 2).replace(\"Drama\", \"7\", 2).replace(\"Family\", \"8\", 2).replace(\"Fantasy\", \"9\", 2).replace(\"History\", \"10\", 2).replace(\"Horror\", \"11\", 2).replace(\"Musical\", \"12\", 2).replace(\"Mystery\", \"13\", 2).replace(\"Romance\", \"14\", 2).replace(\"Sci-Fi\", \"15\", 2).replace(\"Sport\", \"16\", 2).replace(\"Thriller\", \"17\", 2).replace(\"War\", \"18\", 2).replace(\"Western\", \"19\", 2).replace(\"Music\", \"20\", 2).replace(\"Film-Noir\", \"21\", 2).replace(\"Reality-TV\",\"22\",2)\n",
        "  # print(\"replaced: \", replacedWithNums)\n",
        "  # # push y onto new column\n",
        "  Test_Column_GenresAsNumber[i] = replacedWithNums\n",
        "  # print(\"Test_Column_GenresAsNumber[i] is \", Test_Column_GenresAsNumber[i])\n",
        "  mainSingleGenre = \"\"\n",
        "  for element in replacedWithNums:\n",
        "    if element == ',' :\n",
        "      break\n",
        "    mainSingleGenre += element\n",
        "  # print (\"mainSingleGenre is \", mainSingleGenre)\n",
        "  Test_Column_SingleGenre[i] = mainSingleGenre\n",
        "\n",
        "# print (\"EXITING FOR\")\n",
        "#Finally, we'll add these 2 columns to our csv Test file.\n",
        "# pd.DataFrame().drop(columns='Single Genre')\n",
        "test['Labels'] = Test_Column_SingleGenre\n",
        "test['Genres As Numbers'] = Test_Column_GenresAsNumber\n",
        "\n",
        "#print to check it out\n",
        "test"
      ],
      "execution_count": 13,
      "outputs": [
        {
          "output_type": "stream",
          "text": [
            "2073\n",
            "Test_Column_GenresAsNumber is  ['' '' '' ... '' '' '']\n",
            "Test_Column_SingleGenre is  [       88588288 139983478825872 139983474197296 ... 139983474195760\n",
            " 139983476825344 139983476816272]\n"
          ],
          "name": "stdout"
        },
        {
          "output_type": "execute_result",
          "data": {
            "text/html": [
              "<div>\n",
              "<style scoped>\n",
              "    .dataframe tbody tr th:only-of-type {\n",
              "        vertical-align: middle;\n",
              "    }\n",
              "\n",
              "    .dataframe tbody tr th {\n",
              "        vertical-align: top;\n",
              "    }\n",
              "\n",
              "    .dataframe thead th {\n",
              "        text-align: right;\n",
              "    }\n",
              "</style>\n",
              "<table border=\"1\" class=\"dataframe\">\n",
              "  <thead>\n",
              "    <tr style=\"text-align: right;\">\n",
              "      <th></th>\n",
              "      <th>title</th>\n",
              "      <th>genres</th>\n",
              "      <th>description_full</th>\n",
              "      <th>Actor Names</th>\n",
              "      <th>Labels</th>\n",
              "      <th>Genres As Numbers</th>\n",
              "    </tr>\n",
              "  </thead>\n",
              "  <tbody>\n",
              "    <tr>\n",
              "      <th>0</th>\n",
              "      <td>The Troubleshooter</td>\n",
              "      <td>Comedy,Drama</td>\n",
              "      <td>After a failed one-night stand, a mechanic end...</td>\n",
              "      <td>{}</td>\n",
              "      <td>4</td>\n",
              "      <td>4</td>\n",
              "    </tr>\n",
              "    <tr>\n",
              "      <th>1</th>\n",
              "      <td>The Tango Lesson</td>\n",
              "      <td>Drama,Music,Romance</td>\n",
              "      <td>On a trip to Paris Sally meets Pablo, a tango ...</td>\n",
              "      <td>{}</td>\n",
              "      <td>7</td>\n",
              "      <td>7</td>\n",
              "    </tr>\n",
              "    <tr>\n",
              "      <th>2</th>\n",
              "      <td>The Thompsons</td>\n",
              "      <td>Drama,Horror,Thriller</td>\n",
              "      <td>On the run with the law on their trail, Americ...</td>\n",
              "      <td>{Elizabeth Henstridge, Mackenzie Firgens, Sean...</td>\n",
              "      <td>7</td>\n",
              "      <td>7</td>\n",
              "    </tr>\n",
              "    <tr>\n",
              "      <th>3</th>\n",
              "      <td>I Saw What You Did</td>\n",
              "      <td>Action,Comedy,Crime,Horror,Thriller</td>\n",
              "      <td>When two teenagers make prank phone calls to s...</td>\n",
              "      <td>{Joan Crawford, John Ireland, Leif Erickson, J...</td>\n",
              "      <td>0</td>\n",
              "      <td>0</td>\n",
              "    </tr>\n",
              "    <tr>\n",
              "      <th>4</th>\n",
              "      <td>Psych-Out</td>\n",
              "      <td>Drama</td>\n",
              "      <td>Jenny, a deaf runaway who has just arrived in ...</td>\n",
              "      <td>{Jack Nicholson, Dean Stockwell, Bruce Dern, G...</td>\n",
              "      <td>7</td>\n",
              "      <td>7</td>\n",
              "    </tr>\n",
              "    <tr>\n",
              "      <th>...</th>\n",
              "      <td>...</td>\n",
              "      <td>...</td>\n",
              "      <td>...</td>\n",
              "      <td>...</td>\n",
              "      <td>...</td>\n",
              "      <td>...</td>\n",
              "    </tr>\n",
              "    <tr>\n",
              "      <th>2068</th>\n",
              "      <td>Fast Colour</td>\n",
              "      <td>Drama,Sci-Fi,Thriller</td>\n",
              "      <td>After years in hiding, a woman is forced to go...</td>\n",
              "      <td>{Gugu Mbatha-Raw, Lorraine Toussaint, David St...</td>\n",
              "      <td>7</td>\n",
              "      <td>7</td>\n",
              "    </tr>\n",
              "    <tr>\n",
              "      <th>2069</th>\n",
              "      <td>WWE Royal Rumble</td>\n",
              "      <td>Action,Sport</td>\n",
              "      <td>For the superstars of the WWE, the year begins...</td>\n",
              "      <td>{Ronda Rousey, Mike , Randy Orton, C.J. Perry}</td>\n",
              "      <td>0</td>\n",
              "      <td>0</td>\n",
              "    </tr>\n",
              "    <tr>\n",
              "      <th>2070</th>\n",
              "      <td>Disappearance</td>\n",
              "      <td>Romance,Thriller</td>\n",
              "      <td>When author George BoulangÃ© agrees to the wis...</td>\n",
              "      <td>{Brian Thompson, Cortney Palm, Reggie Lee, Mat...</td>\n",
              "      <td>14</td>\n",
              "      <td>1</td>\n",
              "    </tr>\n",
              "    <tr>\n",
              "      <th>2071</th>\n",
              "      <td>Run for the High Country</td>\n",
              "      <td>Western</td>\n",
              "      <td>A seasoned US Marshal is ambushed while tracki...</td>\n",
              "      <td>{}</td>\n",
              "      <td>19</td>\n",
              "      <td>1</td>\n",
              "    </tr>\n",
              "    <tr>\n",
              "      <th>2072</th>\n",
              "      <td>The Pink Panther Strikes Again</td>\n",
              "      <td>Comedy,Crime</td>\n",
              "      <td>Charles Dreyfus (Herbert Lom) escapes from the...</td>\n",
              "      <td>{Julie Andrews, Peter Sellers, Deep Roy, Omar ...</td>\n",
              "      <td>4</td>\n",
              "      <td>4</td>\n",
              "    </tr>\n",
              "  </tbody>\n",
              "</table>\n",
              "<p>2073 rows × 6 columns</p>\n",
              "</div>"
            ],
            "text/plain": [
              "                               title  ... Genres As Numbers\n",
              "0                 The Troubleshooter  ...                 4\n",
              "1                   The Tango Lesson  ...                 7\n",
              "2                      The Thompsons  ...                 7\n",
              "3                 I Saw What You Did  ...                 0\n",
              "4                          Psych-Out  ...                 7\n",
              "...                              ...  ...               ...\n",
              "2068                     Fast Colour  ...                 7\n",
              "2069                WWE Royal Rumble  ...                 0\n",
              "2070                   Disappearance  ...                 1\n",
              "2071        Run for the High Country  ...                 1\n",
              "2072  The Pink Panther Strikes Again  ...                 4\n",
              "\n",
              "[2073 rows x 6 columns]"
            ]
          },
          "metadata": {
            "tags": []
          },
          "execution_count": 13
        }
      ]
    },
    {
      "cell_type": "markdown",
      "metadata": {
        "id": "v06yiSWRgX7j"
      },
      "source": [
        "##**Data Cleaning for Train**"
      ]
    },
    {
      "cell_type": "code",
      "metadata": {
        "colab": {
          "base_uri": "https://localhost:8080/",
          "height": 810
        },
        "id": "7LPiaDTjgXPq",
        "outputId": "1403fc03-4284-47f5-8cc2-b4ed3a97fbe9"
      },
      "source": [
        "#First determine length of \"train\" csv file (number of rows)\n",
        "trainLength = len(train['title'])\n",
        "print (trainLength)\n",
        "\n",
        "#Now we'll create an empty array of length equal to trainLength. Call this \" \"Genres as Numbers\"\"This contains all genres\n",
        "train_Column_GenresAsNumber = np.empty(trainLength, dtype=str) \n",
        "print (\"train_Column_GenresAsNumber is \", train_Column_GenresAsNumber)\n",
        "\n",
        "#Now we'll create another empty array of length equal to trainLength. call this Main Genre (not sure if its acc the main genre)\n",
        "#rather its just the first genre in the column called Genres as Numbers\n",
        "train_Column_SingleGenre = np.empty(trainLength, dtype=int) \n",
        "print (\"train_Column_SingleGenre is \", train_Column_SingleGenre)\n",
        "\n",
        "\n",
        "#Now lets use code to convert all genres from words into numbers. We'll iterate thru the \"genres column\"\n",
        "EntireCSVFile = train.head(trainLength) #this contains all rows\n",
        "# print(\"HERES EntireCSVFile\", EntireCSVFile)\n",
        "\n",
        "# print (\"ENTERING FOR\")\n",
        "for i in range(trainLength):\n",
        "  #find and replace each genre with its number. sytax: string.replace(old, new, count)\n",
        "  # print(EntireCSVFile['genres'][i]) \n",
        "  current_Genres= EntireCSVFile['genres'][i]\n",
        "  replacedWithNums = current_Genres.replace(\"Action\", \"0\", 2).replace(\"Adventure\", \"1\", 2).replace(\"Animation\", \"2\", 2).replace(\"Biography\", \"3\", 2).replace(\"Comedy\", \"4\", 2).replace(\"Crime\", \"5\", 2).replace(\"Documentary\", \"6\", 2).replace(\"Drama\", \"7\", 2).replace(\"Family\", \"8\", 2).replace(\"Fantasy\", \"9\", 2).replace(\"History\", \"10\", 2).replace(\"Horror\", \"11\", 2).replace(\"Musical\", \"12\", 2).replace(\"Mystery\", \"13\", 2).replace(\"Romance\", \"14\", 2).replace(\"Sci-Fi\", \"15\", 2).replace(\"Sport\", \"16\", 2).replace(\"Thriller\", \"17\", 2).replace(\"War\", \"18\", 2).replace(\"Western\", \"19\", 2).replace(\"Music\", \"20\", 2).replace(\"Film-Noir\", \"21\", 2).replace(\"Reality-TV\",\"22\",2)\n",
        "  # print(\"replaced: \", replacedWithNums)\n",
        "  # # push y onto new column\n",
        "  train_Column_GenresAsNumber[i] = replacedWithNums\n",
        "  # print(\"train_Column_GenresAsNumber[i] is \", train_Column_GenresAsNumber[i])\n",
        "  mainSingleGenre = \"\"\n",
        "  for element in replacedWithNums:\n",
        "    if element == ',' :\n",
        "      break\n",
        "    mainSingleGenre += element\n",
        "  # print (\"mainSingleGenre is \", mainSingleGenre)\n",
        "  train_Column_SingleGenre[i] = mainSingleGenre\n",
        "\n",
        "# print (\"EXITING FOR\")\n",
        "#Finally, we'll add these 2 columns to our csv train file.\n",
        "# pd.DataFrame().drop(columns='Single Genre')\n",
        "train['Labels'] = train_Column_SingleGenre\n",
        "train['Genres As Numbers'] = train_Column_GenresAsNumber\n",
        "\n",
        "#print to check it out\n",
        "train"
      ],
      "execution_count": 11,
      "outputs": [
        {
          "output_type": "stream",
          "text": [
            "7522\n",
            "train_Column_GenresAsNumber is  ['' '' '' ... '' '' '']\n",
            "train_Column_SingleGenre is  [       73154560 139939749981976 139939749313712 ... 139939748672816\n",
            " 139939746289392 139939748674032]\n"
          ],
          "name": "stdout"
        },
        {
          "output_type": "execute_result",
          "data": {
            "text/html": [
              "<div>\n",
              "<style scoped>\n",
              "    .dataframe tbody tr th:only-of-type {\n",
              "        vertical-align: middle;\n",
              "    }\n",
              "\n",
              "    .dataframe tbody tr th {\n",
              "        vertical-align: top;\n",
              "    }\n",
              "\n",
              "    .dataframe thead th {\n",
              "        text-align: right;\n",
              "    }\n",
              "</style>\n",
              "<table border=\"1\" class=\"dataframe\">\n",
              "  <thead>\n",
              "    <tr style=\"text-align: right;\">\n",
              "      <th></th>\n",
              "      <th>title</th>\n",
              "      <th>genres</th>\n",
              "      <th>description_full</th>\n",
              "      <th>Actor Names</th>\n",
              "      <th>Labels</th>\n",
              "      <th>Genres As Numbers</th>\n",
              "    </tr>\n",
              "  </thead>\n",
              "  <tbody>\n",
              "    <tr>\n",
              "      <th>0</th>\n",
              "      <td>The Haunting of Alcatraz</td>\n",
              "      <td>Horror</td>\n",
              "      <td>Alcatraz. 1937. A young prison guard working t...</td>\n",
              "      <td>NaN</td>\n",
              "      <td>11</td>\n",
              "      <td>1</td>\n",
              "    </tr>\n",
              "    <tr>\n",
              "      <th>1</th>\n",
              "      <td>A Bluebird in My Heart</td>\n",
              "      <td>Drama</td>\n",
              "      <td>Attempting to lead a quiet reformed life, an e...</td>\n",
              "      <td>{Lubna Azabal}</td>\n",
              "      <td>7</td>\n",
              "      <td>7</td>\n",
              "    </tr>\n",
              "    <tr>\n",
              "      <th>2</th>\n",
              "      <td>1917</td>\n",
              "      <td>Drama,War</td>\n",
              "      <td>April 1917, the Western Front. Two British sol...</td>\n",
              "      <td>{Benedict Cumberbatch, Andrew Scott, Richard M...</td>\n",
              "      <td>7</td>\n",
              "      <td>7</td>\n",
              "    </tr>\n",
              "    <tr>\n",
              "      <th>3</th>\n",
              "      <td>Un moment d'Ã©garement</td>\n",
              "      <td>Comedy,Drama,Romance</td>\n",
              "      <td>Two friends bring their daughters with them on...</td>\n",
              "      <td>{Vincent Cassel, FranÃ§ois Cluzet}</td>\n",
              "      <td>4</td>\n",
              "      <td>4</td>\n",
              "    </tr>\n",
              "    <tr>\n",
              "      <th>4</th>\n",
              "      <td>10 Things I Hate About You</td>\n",
              "      <td>Action,Comedy,Drama,Romance</td>\n",
              "      <td>Adapted from William Shakespeare's play \"The T...</td>\n",
              "      <td>{Joseph Gordon-Levitt, Heath Ledger, Julia Sti...</td>\n",
              "      <td>0</td>\n",
              "      <td>0</td>\n",
              "    </tr>\n",
              "    <tr>\n",
              "      <th>...</th>\n",
              "      <td>...</td>\n",
              "      <td>...</td>\n",
              "      <td>...</td>\n",
              "      <td>...</td>\n",
              "      <td>...</td>\n",
              "      <td>...</td>\n",
              "    </tr>\n",
              "    <tr>\n",
              "      <th>7517</th>\n",
              "      <td>Lane 1974</td>\n",
              "      <td>Adventure,Biography,Drama</td>\n",
              "      <td>Based on a true story, Lane is a 13-year-old g...</td>\n",
              "      <td>{Katherine Moennig, Jasmin Savoy Brown, Sara C...</td>\n",
              "      <td>1</td>\n",
              "      <td>1</td>\n",
              "    </tr>\n",
              "    <tr>\n",
              "      <th>7518</th>\n",
              "      <td>Mind and Machine</td>\n",
              "      <td>Crime,Sci-Fi,Thriller</td>\n",
              "      <td>Set in the near future where humanoid robots a...</td>\n",
              "      <td>{}</td>\n",
              "      <td>5</td>\n",
              "      <td>5</td>\n",
              "    </tr>\n",
              "    <tr>\n",
              "      <th>7519</th>\n",
              "      <td>Girl Lost</td>\n",
              "      <td>Action,Drama</td>\n",
              "      <td>Born into the seedy, underground world of pros...</td>\n",
              "      <td>{Robin Bain}</td>\n",
              "      <td>0</td>\n",
              "      <td>0</td>\n",
              "    </tr>\n",
              "    <tr>\n",
              "      <th>7520</th>\n",
              "      <td>Caravan to Vaccares</td>\n",
              "      <td>Action,Mystery,Thriller</td>\n",
              "      <td>American Neil Bowman is traveling through Fran...</td>\n",
              "      <td>{Charlotte Rampling, Michael Lonsdale}</td>\n",
              "      <td>0</td>\n",
              "      <td>0</td>\n",
              "    </tr>\n",
              "    <tr>\n",
              "      <th>7521</th>\n",
              "      <td>Burn Out</td>\n",
              "      <td>Action,Thriller</td>\n",
              "      <td>Head burned, addicted to thrills, Tony lives f...</td>\n",
              "      <td>{Olivier Rabourdin, FranÃ§ois Civil}</td>\n",
              "      <td>0</td>\n",
              "      <td>0</td>\n",
              "    </tr>\n",
              "  </tbody>\n",
              "</table>\n",
              "<p>7522 rows × 6 columns</p>\n",
              "</div>"
            ],
            "text/plain": [
              "                           title  ... Genres As Numbers\n",
              "0       The Haunting of Alcatraz  ...                 1\n",
              "1         A Bluebird in My Heart  ...                 7\n",
              "2                           1917  ...                 7\n",
              "3         Un moment d'Ã©garement  ...                 4\n",
              "4     10 Things I Hate About You  ...                 0\n",
              "...                          ...  ...               ...\n",
              "7517                   Lane 1974  ...                 1\n",
              "7518            Mind and Machine  ...                 5\n",
              "7519                   Girl Lost  ...                 0\n",
              "7520         Caravan to Vaccares  ...                 0\n",
              "7521                    Burn Out  ...                 0\n",
              "\n",
              "[7522 rows x 6 columns]"
            ]
          },
          "metadata": {
            "tags": []
          },
          "execution_count": 11
        }
      ]
    },
    {
      "cell_type": "markdown",
      "metadata": {
        "id": "ZOKS-Ytji_8Q"
      },
      "source": [
        "## Data Analysis\n"
      ]
    },
    {
      "cell_type": "code",
      "metadata": {
        "colab": {
          "base_uri": "https://localhost:8080/"
        },
        "id": "c-RG-WVoLtmL",
        "outputId": "840c8a83-b937-436f-8498-4026d0d2d028"
      },
      "source": [
        "train.info()"
      ],
      "execution_count": 12,
      "outputs": [
        {
          "output_type": "stream",
          "text": [
            "<class 'pandas.core.frame.DataFrame'>\n",
            "RangeIndex: 7522 entries, 0 to 7521\n",
            "Data columns (total 6 columns):\n",
            " #   Column             Non-Null Count  Dtype \n",
            "---  ------             --------------  ----- \n",
            " 0   title              7522 non-null   object\n",
            " 1   genres             7522 non-null   object\n",
            " 2   description_full   7522 non-null   object\n",
            " 3   Actor Names        7521 non-null   object\n",
            " 4   Labels             7522 non-null   int64 \n",
            " 5   Genres As Numbers  7522 non-null   object\n",
            "dtypes: int64(1), object(5)\n",
            "memory usage: 352.7+ KB\n"
          ],
          "name": "stdout"
        }
      ]
    },
    {
      "cell_type": "code",
      "metadata": {
        "colab": {
          "base_uri": "https://localhost:8080/"
        },
        "id": "ycejaWz4Mi6S",
        "outputId": "c30eda15-3c84-48bd-9fd9-6a5d758c0f98"
      },
      "source": [
        "test.info()"
      ],
      "execution_count": 16,
      "outputs": [
        {
          "output_type": "stream",
          "text": [
            "<class 'pandas.core.frame.DataFrame'>\n",
            "RangeIndex: 2073 entries, 0 to 2072\n",
            "Data columns (total 6 columns):\n",
            " #   Column             Non-Null Count  Dtype \n",
            "---  ------             --------------  ----- \n",
            " 0   title              2073 non-null   object\n",
            " 1   genres             2073 non-null   object\n",
            " 2   description_full   2073 non-null   object\n",
            " 3   Actor Names        2058 non-null   object\n",
            " 4   Labels             2073 non-null   int64 \n",
            " 5   Genres As Numbers  2073 non-null   object\n",
            "dtypes: int64(1), object(5)\n",
            "memory usage: 97.3+ KB\n"
          ],
          "name": "stdout"
        }
      ]
    },
    {
      "cell_type": "code",
      "metadata": {
        "colab": {
          "base_uri": "https://localhost:8080/"
        },
        "id": "_Gm3bYYfMwHM",
        "outputId": "6a8b805f-bd34-4cac-ce07-60cf05bf7f30"
      },
      "source": [
        "validation.info()"
      ],
      "execution_count": 17,
      "outputs": [
        {
          "output_type": "stream",
          "text": [
            "<class 'pandas.core.frame.DataFrame'>\n",
            "RangeIndex: 2604 entries, 0 to 2603\n",
            "Data columns (total 4 columns):\n",
            " #   Column            Non-Null Count  Dtype \n",
            "---  ------            --------------  ----- \n",
            " 0   title             2604 non-null   object\n",
            " 1   genres            2604 non-null   object\n",
            " 2   description_full  2602 non-null   object\n",
            " 3   Actor Names       2604 non-null   object\n",
            "dtypes: object(4)\n",
            "memory usage: 81.5+ KB\n"
          ],
          "name": "stdout"
        }
      ]
    },
    {
      "cell_type": "markdown",
      "metadata": {
        "id": "04E8Rze1L3tg"
      },
      "source": [
        "------------------------------------\n",
        "##**Key Notes:**\n",
        "* We do not have any null/missing/nan values in the datasets (except with the actor values in test - which needs to be removed during data cleaning!)\n",
        "* The target variable \"Genre\" is of data type integer (and there is only ONE genre assigned)\n",
        "* The independent variable description is of type object\n",
        "* test and validate do not have the column with answers in them\n",
        "\n",
        "\n",
        "\n",
        "------------------------------------"
      ]
    },
    {
      "cell_type": "markdown",
      "metadata": {
        "id": "7PyXtKCae-ul"
      },
      "source": [
        "# Distrbution of Classes - Visualization\n"
      ]
    },
    {
      "cell_type": "code",
      "metadata": {
        "colab": {
          "base_uri": "https://localhost:8080/",
          "height": 626
        },
        "id": "kWoJT-5se8oF",
        "outputId": "accd7578-3f6a-4131-9e69-9792bb709e94"
      },
      "source": [
        "#training set\n",
        "\n",
        "print(\"Unique number of classes in train : \", train['Labels'].nunique())\n",
        "train['Labels'].value_counts().plot(kind = 'bar',figsize=(7,10), rot=0, yticks=range(0,7000,200))\n",
        "\n"
      ],
      "execution_count": 13,
      "outputs": [
        {
          "output_type": "stream",
          "text": [
            "Unique number of classes in train :  19\n"
          ],
          "name": "stdout"
        },
        {
          "output_type": "execute_result",
          "data": {
            "text/plain": [
              "<matplotlib.axes._subplots.AxesSubplot at 0x7f464371d4a8>"
            ]
          },
          "metadata": {
            "tags": []
          },
          "execution_count": 13
        },
        {
          "output_type": "display_data",
          "data": {
            "image/png": "[encoded data removed]",
            "text/plain": [
              "<Figure size 504x720 with 1 Axes>"
            ]
          },
          "metadata": {
            "tags": [],
            "needs_background": "light"
          }
        }
      ]
    },
    {
      "cell_type": "markdown",
      "metadata": {
        "id": "I2Z9xRaIqF6m"
      },
      "source": [
        "##**Feature Engineering**"
      ]
    },
    {
      "cell_type": "markdown",
      "metadata": {
        "id": "xMkBrKNcqICB"
      },
      "source": [
        "'Feature engineering is a fancy term for deriving new features from the existing features. This is part of the exploration strategy that might help us in getting that extra .01% accuracy which in most cases are highly crucial for an ML model.\n",
        "\n",
        "Let us see how the length of each script contributes in identifying the genre of a movie. This may not seem logical to us. We may think that these are movie scripts and all most all movies have the same stream length. However, there can be a correlation that machines can easily relate. We will explore this by using the feature to predict and compare the model's prediction.'"
      ]
    },
    {
      "cell_type": "markdown",
      "metadata": {
        "id": "aW6YXCWvqYDI"
      },
      "source": [
        "##**Data PreProcessing**"
      ]
    },
    {
      "cell_type": "code",
      "metadata": {
        "colab": {
          "base_uri": "https://localhost:8080/"
        },
        "id": "I3pZPggSqbXF",
        "outputId": "2cda0bb4-cf66-4023-9fe7-c3dc369d59a5"
      },
      "source": [
        "train['Labels'].value_counts()"
      ],
      "execution_count": 14,
      "outputs": [
        {
          "output_type": "execute_result",
          "data": {
            "text/plain": [
              "0     6625\n",
              "7      231\n",
              "4      229\n",
              "11      95\n",
              "5       90\n",
              "1       72\n",
              "3       60\n",
              "6       51\n",
              "2       20\n",
              "17      15\n",
              "13       9\n",
              "9        7\n",
              "15       6\n",
              "8        4\n",
              "19       4\n",
              "14       1\n",
              "18       1\n",
              "16       1\n",
              "22       1\n",
              "Name: Labels, dtype: int64"
            ]
          },
          "metadata": {
            "tags": []
          },
          "execution_count": 14
        }
      ]
    },
    {
      "cell_type": "markdown",
      "metadata": {
        "id": "UdRyKR44dcNI"
      },
      "source": [
        "## Data Visualization\n",
        "\n",
        "# With Colab you can harness the full power of popular Python libraries to analyze and visualize data. The code cell below uses **numpy** to generate some random data, and uses **matplotlib** to visualize it. To **edit** the code, just click the cell and start editing."
      ]
    },
    {
      "cell_type": "code",
      "metadata": {
        "colab": {
          "base_uri": "https://localhost:8080/",
          "height": 281
        },
        "id": "C4HZx7Gndbrh",
        "outputId": "46abc637-6abd-41b2-9bba-80a7ae992e06"
      },
      "source": [
        "import numpy as np\n",
        "from matplotlib import pyplot as plt\n",
        "\n",
        "ys = 200 + np.random.randn(100)\n",
        "x = [x for x in range(len(ys))]\n",
        "\n",
        "plt.plot(x, ys, '-')\n",
        "plt.fill_between(x, ys, 195, where=(ys > 195), facecolor='g', alpha=0.6)\n",
        "\n",
        "plt.title(\"Sample Visualization\")\n",
        "plt.show()"
      ],
      "execution_count": null,
      "outputs": [
        {
          "output_type": "display_data",
          "data": {
            "image/png": "[encoded data removed]",
            "text/plain": [
              "<Figure size 432x288 with 1 Axes>"
            ]
          },
          "metadata": {
            "tags": []
          }
        }
      ]
    },
    {
      "cell_type": "markdown",
      "metadata": {
        "id": "4_kCnsPUqS6o"
      },
      "source": [
        "You can import your own data into Colab notebooks from your Google Drive account, including from spreadsheets, as well as from Github and many other sources. To learn more about importing data, and how Colab can be used for data science, see the links below under [Working with Data](#working-with-data)."
      ]
    },
    {
      "cell_type": "markdown",
      "metadata": {
        "id": "OwuxHmxllTwN"
      },
      "source": [
        "## Machine learning\n",
        "\n",
        "With Colab you can import an image dataset, train an image classifier on it, and evaluate the model, all in just [a few lines of code](https://colab.research.google.com/github/tensorflow/docs/blob/master/site/en/tutorials/quickstart/beginner.ipynb). Colab notebooks execute code on Google's cloud servers, meaning you can leverage the power of Google hardware, including [GPUs and TPUs](#using-accelerated-hardware), regardless of the power of your machine. All you need is a browser."
      ]
    },
    {
      "cell_type": "markdown",
      "metadata": {
        "id": "ufxBm1yRnruN"
      },
      "source": [
        "Colab is used extensively in the machine learning community with applications including:\n",
        "- Getting started with TensorFlow\n",
        "- Developing and training neural networks\n",
        "- Experimenting with TPUs\n",
        "- Disseminating AI research\n",
        "- Creating tutorials\n",
        "\n",
        "To see sample Colab notebooks that demonstrate machine learning applications, see the [machine learning examples](#machine-learning-examples) below."
      ]
    },
    {
      "cell_type": "markdown",
      "metadata": {
        "id": "-Rh3-Vt9Nev9"
      },
      "source": [
        "## More Resources\n",
        "\n",
        "### Working with Notebooks in Colab\n",
        "- [Overview of Colaboratory](/notebooks/basic_features_overview.ipynb)\n",
        "- [Guide to Markdown](/notebooks/markdown_guide.ipynb)\n",
        "- [Importing libraries and installing dependencies](/notebooks/snippets/importing_libraries.ipynb)\n",
        "- [Saving and loading notebooks in GitHub](https://colab.research.google.com/github/googlecolab/colabtools/blob/master/notebooks/colab-github-demo.ipynb)\n",
        "- [Interactive forms](/notebooks/forms.ipynb)\n",
        "- [Interactive widgets](/notebooks/widgets.ipynb)\n",
        "- <img src=\"/img/new.png\" height=\"20px\" align=\"left\" hspace=\"4px\" alt=\"New\"></img>\n",
        " [TensorFlow 2 in Colab](/notebooks/tensorflow_version.ipynb)\n",
        "\n",
        "<a name=\"working-with-data\"></a>\n",
        "### Working with Data\n",
        "- [Loading data: Drive, Sheets, and Google Cloud Storage](/notebooks/io.ipynb) \n",
        "- [Charts: visualizing data](/notebooks/charts.ipynb)\n",
        "- [Getting started with BigQuery](/notebooks/bigquery.ipynb)\n",
        "\n",
        "### Machine Learning Crash Course\n",
        "These are a few of the notebooks from Google's online Machine Learning course. See the [full course website](https://developers.google.com/machine-learning/crash-course/) for more.\n",
        "- [Intro to Pandas](/notebooks/mlcc/intro_to_pandas.ipynb)\n",
        "- [Tensorflow concepts](/notebooks/mlcc/tensorflow_programming_concepts.ipynb)\n",
        "- [First steps with TensorFlow](/notebooks/mlcc/first_steps_with_tensor_flow.ipynb)\n",
        "- [Intro to neural nets](/notebooks/mlcc/intro_to_neural_nets.ipynb)\n",
        "- [Intro to sparse data and embeddings](/notebooks/mlcc/intro_to_sparse_data_and_embeddings.ipynb)\n",
        "\n",
        "<a name=\"using-accelerated-hardware\"></a>\n",
        "### Using Accelerated Hardware\n",
        "- [TensorFlow with GPUs](/notebooks/gpu.ipynb)\n",
        "- [TensorFlow with TPUs](/notebooks/tpu.ipynb)"
      ]
    },
    {
      "cell_type": "markdown",
      "metadata": {
        "id": "P-H6Lw1vyNNd"
      },
      "source": [
        "<a name=\"machine-learning-examples\"></a>\n",
        "\n",
        "## Machine Learning Examples\n",
        "\n",
        "To see end-to-end examples of the interactive machine learning analyses that Colaboratory makes possible, check out these  tutorials using models from [TensorFlow Hub](https://tfhub.dev).\n",
        "\n",
        "A few featured examples:\n",
        "\n",
        "- [Retraining an Image Classifier](https://tensorflow.org/hub/tutorials/tf2_image_retraining): Build a Keras model on top of a pre-trained image classifier to distinguish flowers.\n",
        "- [Text Classification](https://tensorflow.org/hub/tutorials/tf2_text_classification): Classify IMDB movie reviews as either *positive* or *negative*.\n",
        "- [Style Transfer](https://tensorflow.org/hub/tutorials/tf2_arbitrary_image_stylization): Use deep learning to transfer style between images.\n",
        "- [Multilingual Universal Sentence Encoder Q&A](https://tensorflow.org/hub/tutorials/retrieval_with_tf_hub_universal_encoder_qa): Use a machine learning model to answer questions from the SQuAD dataset.\n",
        "- [Video Interpolation](https://tensorflow.org/hub/tutorials/tweening_conv3d): Predict what happened in a video between the first and the last frame.\n"
      ]
    }
  ]
}